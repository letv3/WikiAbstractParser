{
 "cells": [
  {
   "cell_type": "code",
   "execution_count": 1,
   "metadata": {},
   "outputs": [],
   "source": [
    "import re, csv, datetime\n",
    "\n",
    "import pyspark.sql.functions as sparkfunctions\n",
    "from pyspark.sql import SparkSession\n",
    "from pyspark.sql.types import *\n",
    "from pyspark import SparkContext\n",
    "\n",
    "MEDIAWIKI_ARTICLES_DUMPFILE_PATH = 'data/enwiki-latest-pages-articles1.xml'\n",
    "MEDIAWIKI_ABSTRACTS_DUMPFILE_PATH = 'data/enwiki-latest-abstract.xml'\n",
    "DBPEDIA_ABSTRACTS_DUMPFILE_PATH = '/data/long-abstracts_lang=en.ttl'\n",
    "\n",
    "WIKI_ABSTRACTS_SAMPLE_PATH = 'data/raw_sample_data/wiki_abstracts_sample.xml'\n",
    "DBPEDIA_ABSTRACTS_SAMPLE_PATH = 'data/raw_sample_data/dbpedia_abstracts'\n",
    "\n",
    "PARSED_ABSTRACTS_PATH = '../../data/document_base/parsed_abstracts_spark.csv'\n",
    "\n",
    "spark = SparkSession.builder.getOrCreate()\n",
    "sc = spark.sparkContext"
   ]
  },
  {
   "cell_type": "code",
   "execution_count": 2,
   "metadata": {
    "pycharm": {
     "name": "#%%\n"
    }
   },
   "outputs": [],
   "source": [
    "def parse_wiki_articles_file(spark, path):\n",
    "    abstract_pattern = r\"'''([^\\=]*)(?=(={1,6})([^\\n]+?)(={1,6})[ \\t]*(\\n|\\Z))\"\n",
    "    customSchema = StructType([\n",
    "        StructField('title', StringType()),\n",
    "        StructField('revision', StructType([\n",
    "            StructField('text', StructType([\n",
    "                StructField('_VALUE', StringType())\n",
    "            ]))\n",
    "        ]))\n",
    "    ])\n",
    "    df = spark.read.format('com.databricks.spark.xml')\\\n",
    "        .options(rowTag='page').load(path, schema=customSchema)\n",
    "    all_abstracts_rdd = df.rdd.map(\n",
    "        lambda loop: (\n",
    "            loop['title'].replace('Wikipedia:',''),\n",
    "            abstract_text.group(0).replace('\\n', ' ')\n",
    "            if (abstract_text := re.search(pattern=abstract_pattern,\n",
    "                                           string=loop['revision']['text']['_VALUE'],\n",
    "                                           flags=re.MULTILINE | re.DOTALL)\n",
    "                ) is not None else None\n",
    "        ))\n",
    "    all_abstracts = all_abstracts_rdd.toDF(['title', 'abstract'])\n",
    "    valid_abstracts = all_abstracts.dropna()\n",
    "    return valid_abstracts\n",
    "\n",
    "def parse_wiki_abstracts_file(spark, path):\n",
    "    title_pattern = r\"^Wikipedia: ([^\\n]*)\"\n",
    "    customSchema = StructType([\n",
    "        StructField('title', StringType(), False),\n",
    "        StructField('abstract', StringType(), False)\n",
    "    ])\n",
    "    df = spark.read.format(\"com.databricks.spark.xml\")\\\n",
    "        .options(rowTag='doc').load(path, schema=customSchema)\n",
    "    wiki_abstract_rdd = df.rdd.map(\n",
    "        lambda loop: (\n",
    "            re.search(pattern=title_pattern, string=loop['title']).group(1).replace('\\n', ' '),\n",
    "            loop['abstract']\n",
    "        ))\n",
    "    all_wiki_abstracts = wiki_abstract_rdd.toDF(['title', 'abstract'])\n",
    "    valid_abstracts = all_wiki_abstracts.dropna()\n",
    "    return valid_abstracts\n",
    "\n",
    "def parse_dbpedia_abstract_file(spark, path):\n",
    "    title_pattern = r\"^<http:\\/\\/dbpedia\\.org\\/resource\\/([^\\>]*)> <\"\n",
    "    abstract_pattern = re.compile(r'\"([^\"]*)\"')\n",
    "    sc = spark.sparkContext\n",
    "    rdd = sc.textFile(path)\n",
    "    rdd = rdd.map(\n",
    "        lambda loop: (\n",
    "            title.group(1)\n",
    "            if (title := re.search(title_pattern, loop)) is not None else None,\n",
    "            abstract.group(1)\n",
    "            if (abstract := re.search(abstract_pattern, loop)) is not None else None\n",
    "        ))\n",
    "    rdd = rdd.filter(lambda row: filter(None, row))\n",
    "    dataframe = rdd.toDf(['title', 'abstract'])\n",
    "    return dataframe"
   ]
  },
  {
   "cell_type": "code",
   "execution_count": 3,
   "outputs": [
    {
     "name": "stdout",
     "output_type": "stream",
     "text": [
      "['enwiki-20211101-pages-articles1.xml-p1p41242', 'enwiki-20211101-pages-articles10.xml-p4045403p5399366', 'enwiki-20211101-pages-articles2.xml-p41243p151573', 'enwiki-20211101-pages-articles3.xml-p151574p311329', 'enwiki-20211101-pages-articles4.xml-p311330p558391', 'enwiki-20211101-pages-articles6.xml-p958046p1483661', 'enwiki-20211101-pages-articles7.xml-p1483662p2134111', 'enwiki-20211101-pages-articles8.xml-p2134112p2936260', 'enwiki-20211101-pages-articles9.xml-p2936261p4045402']\n",
      "parisng time: 10.799468040466309\n",
      "root\n",
      " |-- title: string (nullable = true)\n",
      " |-- abstract: string (nullable = true)\n",
      "\n",
      "document0 elapsed: 50.28661775588989\n"
     ]
    }
   ],
   "source": [
    "# Parse abstracts from articles\n",
    "import time, os, glob\n",
    "data_dir = \"d:\\Study\\STU FIIT\\ZS 21-22\\Information Retrival\\wikidata\\wiki_articles\"\n",
    "result_dir = \"d:\\Study\\STU FIIT\\ZS 21-22\\Information Retrival\\wikidata\\parsed_wiki_abstracts\"\n",
    "\n",
    "# get all xml files from directory\n",
    "os.chdir(data_dir)\n",
    "all_files = glob.glob(f\"*.xml-*\")\n",
    "xml_files = []\n",
    "for file_name in all_files:\n",
    "    if re.match(r\"(.*)(?=(\\.bz2))\", file_name): continue\n",
    "    else: xml_files.append(file_name)\n",
    "print(xml_files)\n",
    "\n",
    "#\n",
    "absolute_path = data_dir + '/' + xml_files[0]\n",
    "if os.path.exists(absolute_path):\n",
    "        start_time_single = time.time()\n",
    "        parsed_wikipedia_abstracts_0 = parse_wiki_articles_file(spark, path=data_dir + '/' + xml_files[0])\n",
    "        # res = parsed_wikipedia_abstracts_0.union(parsed_wikipedia_abstracts_1)\n",
    "        print(f\"parisng time: {time.time() - start_time_single}\")\n",
    "        parsed_wikipedia_abstracts_0.printSchema()\n",
    "\n",
    "        try:\n",
    "            parsed_wikipedia_abstracts_0.write.csv(path=result_dir,sep='\\t',mode='overwrite')\n",
    "        except:\n",
    "            print(f'document {0} - Error, cannot write this file to csv')\n",
    "        else:\n",
    "            print(f\"document{0} elapsed: {time.time() - start_time_single}\")\n",
    "\n",
    "#multiple articles dump\n",
    "# start_time = time.time()\n",
    "# for idx, file in enumerate(xml_files):\n",
    "#     absolute_path = data_dir + \"/\" + file\n",
    "#     mode = 'overwrite' if idx == 0 else 'append'\n",
    "#     if os.path.exists(absolute_path):\n",
    "#         start_time_single = time.time()\n",
    "#         parsed_wikipedia_abstracts = parse_wiki_articles_file(spark, path=absolute_path)\n",
    "#         print(f\"parisng time: {time.time() - start_time_single}\")\n",
    "#         try:\n",
    "#             parsed_wikipedia_abstracts.write.csv(path=result_dir,sep='\\t',mode=mode)\n",
    "#         except:\n",
    "#             print(f'document {file} - Error, cannot write this file to csv')\n",
    "#         else:\n",
    "#             print(f\"document {file} elapsed: {time.time() - start_time_single}\")\n",
    "#\n",
    "# print(f\"elapsed: {time.time() - start_time}\")"
   ],
   "metadata": {
    "collapsed": false,
    "pycharm": {
     "name": "#%%\n"
    }
   }
  },
  {
   "cell_type": "code",
   "execution_count": 6,
   "outputs": [
    {
     "name": "stdout",
     "output_type": "stream",
     "text": [
      "parisng time: 2.6326537132263184\n",
      "root\n",
      " |-- title: string (nullable = true)\n",
      " |-- abstract: string (nullable = true)\n",
      "\n"
     ]
    },
    {
     "ename": "Py4JJavaError",
     "evalue": "An error occurred while calling o248.count.\n: org.apache.spark.SparkException: Job aborted due to stage failure: Task 12 in stage 11.0 failed 1 times, most recent failure: Lost task 12.0 in stage 11.0 (TID 64) (147.175.179.16 executor driver): org.apache.spark.api.python.PythonException: Traceback (most recent call last):\n  File \"C:\\Users\\ollyt\\PycharmProject\\vinf\\WikiAbstractParser\\irenv\\Lib\\site-packages\\pyspark\\python\\lib\\pyspark.zip\\pyspark\\worker.py\", line 619, in main\n  File \"C:\\Users\\ollyt\\PycharmProject\\vinf\\WikiAbstractParser\\irenv\\Lib\\site-packages\\pyspark\\python\\lib\\pyspark.zip\\pyspark\\worker.py\", line 611, in process\n  File \"C:\\Users\\ollyt\\PycharmProject\\vinf\\WikiAbstractParser\\irenv\\Lib\\site-packages\\pyspark\\python\\lib\\pyspark.zip\\pyspark\\serializers.py\", line 259, in dump_stream\n    vs = list(itertools.islice(iterator, batch))\n  File \"C:\\Users\\ollyt\\PycharmProject\\vinf\\WikiAbstractParser\\irenv\\Lib\\site-packages\\pyspark\\python\\lib\\pyspark.zip\\pyspark\\util.py\", line 74, in wrapper\n    return f(*args, **kwargs)\n  File \"C:\\Users\\ollyt\\AppData\\Local\\Temp/ipykernel_592/3782531833.py\", line 17, in <lambda>\n  File \"C:\\Users\\ollyt\\AppData\\Local\\Programs\\Python\\Python39\\lib\\re.py\", line 201, in search\n    return _compile(pattern, flags).search(string)\nTypeError: expected string or bytes-like object\n\r\n\tat org.apache.spark.api.python.BasePythonRunner$ReaderIterator.handlePythonException(PythonRunner.scala:545)\r\n\tat org.apache.spark.api.python.PythonRunner$$anon$3.read(PythonRunner.scala:703)\r\n\tat org.apache.spark.api.python.PythonRunner$$anon$3.read(PythonRunner.scala:685)\r\n\tat org.apache.spark.api.python.BasePythonRunner$ReaderIterator.hasNext(PythonRunner.scala:498)\r\n\tat org.apache.spark.InterruptibleIterator.hasNext(InterruptibleIterator.scala:37)\r\n\tat scala.collection.Iterator$$anon$11.hasNext(Iterator.scala:491)\r\n\tat scala.collection.Iterator$$anon$10.hasNext(Iterator.scala:460)\r\n\tat scala.collection.Iterator$$anon$10.hasNext(Iterator.scala:460)\r\n\tat org.apache.spark.sql.catalyst.expressions.GeneratedClass$GeneratedIteratorForCodegenStage1.agg_doAggregateWithoutKey_0$(Unknown Source)\r\n\tat org.apache.spark.sql.catalyst.expressions.GeneratedClass$GeneratedIteratorForCodegenStage1.processNext(Unknown Source)\r\n\tat org.apache.spark.sql.execution.BufferedRowIterator.hasNext(BufferedRowIterator.java:43)\r\n\tat org.apache.spark.sql.execution.WholeStageCodegenExec$$anon$1.hasNext(WholeStageCodegenExec.scala:759)\r\n\tat scala.collection.Iterator$$anon$10.hasNext(Iterator.scala:460)\r\n\tat org.apache.spark.shuffle.sort.BypassMergeSortShuffleWriter.write(BypassMergeSortShuffleWriter.java:140)\r\n\tat org.apache.spark.shuffle.ShuffleWriteProcessor.write(ShuffleWriteProcessor.scala:59)\r\n\tat org.apache.spark.scheduler.ShuffleMapTask.runTask(ShuffleMapTask.scala:99)\r\n\tat org.apache.spark.scheduler.ShuffleMapTask.runTask(ShuffleMapTask.scala:52)\r\n\tat org.apache.spark.scheduler.Task.run(Task.scala:131)\r\n\tat org.apache.spark.executor.Executor$TaskRunner.$anonfun$run$3(Executor.scala:506)\r\n\tat org.apache.spark.util.Utils$.tryWithSafeFinally(Utils.scala:1462)\r\n\tat org.apache.spark.executor.Executor$TaskRunner.run(Executor.scala:509)\r\n\tat java.base/java.util.concurrent.ThreadPoolExecutor.runWorker(ThreadPoolExecutor.java:1128)\r\n\tat java.base/java.util.concurrent.ThreadPoolExecutor$Worker.run(ThreadPoolExecutor.java:628)\r\n\tat java.base/java.lang.Thread.run(Thread.java:834)\r\n\nDriver stacktrace:\r\n\tat org.apache.spark.scheduler.DAGScheduler.failJobAndIndependentStages(DAGScheduler.scala:2403)\r\n\tat org.apache.spark.scheduler.DAGScheduler.$anonfun$abortStage$2(DAGScheduler.scala:2352)\r\n\tat org.apache.spark.scheduler.DAGScheduler.$anonfun$abortStage$2$adapted(DAGScheduler.scala:2351)\r\n\tat scala.collection.mutable.ResizableArray.foreach(ResizableArray.scala:62)\r\n\tat scala.collection.mutable.ResizableArray.foreach$(ResizableArray.scala:55)\r\n\tat scala.collection.mutable.ArrayBuffer.foreach(ArrayBuffer.scala:49)\r\n\tat org.apache.spark.scheduler.DAGScheduler.abortStage(DAGScheduler.scala:2351)\r\n\tat org.apache.spark.scheduler.DAGScheduler.$anonfun$handleTaskSetFailed$1(DAGScheduler.scala:1109)\r\n\tat org.apache.spark.scheduler.DAGScheduler.$anonfun$handleTaskSetFailed$1$adapted(DAGScheduler.scala:1109)\r\n\tat scala.Option.foreach(Option.scala:407)\r\n\tat org.apache.spark.scheduler.DAGScheduler.handleTaskSetFailed(DAGScheduler.scala:1109)\r\n\tat org.apache.spark.scheduler.DAGSchedulerEventProcessLoop.doOnReceive(DAGScheduler.scala:2591)\r\n\tat org.apache.spark.scheduler.DAGSchedulerEventProcessLoop.onReceive(DAGScheduler.scala:2533)\r\n\tat org.apache.spark.scheduler.DAGSchedulerEventProcessLoop.onReceive(DAGScheduler.scala:2522)\r\n\tat org.apache.spark.util.EventLoop$$anon$1.run(EventLoop.scala:49)\r\nCaused by: org.apache.spark.api.python.PythonException: Traceback (most recent call last):\n  File \"C:\\Users\\ollyt\\PycharmProject\\vinf\\WikiAbstractParser\\irenv\\Lib\\site-packages\\pyspark\\python\\lib\\pyspark.zip\\pyspark\\worker.py\", line 619, in main\n  File \"C:\\Users\\ollyt\\PycharmProject\\vinf\\WikiAbstractParser\\irenv\\Lib\\site-packages\\pyspark\\python\\lib\\pyspark.zip\\pyspark\\worker.py\", line 611, in process\n  File \"C:\\Users\\ollyt\\PycharmProject\\vinf\\WikiAbstractParser\\irenv\\Lib\\site-packages\\pyspark\\python\\lib\\pyspark.zip\\pyspark\\serializers.py\", line 259, in dump_stream\n    vs = list(itertools.islice(iterator, batch))\n  File \"C:\\Users\\ollyt\\PycharmProject\\vinf\\WikiAbstractParser\\irenv\\Lib\\site-packages\\pyspark\\python\\lib\\pyspark.zip\\pyspark\\util.py\", line 74, in wrapper\n    return f(*args, **kwargs)\n  File \"C:\\Users\\ollyt\\AppData\\Local\\Temp/ipykernel_592/3782531833.py\", line 17, in <lambda>\n  File \"C:\\Users\\ollyt\\AppData\\Local\\Programs\\Python\\Python39\\lib\\re.py\", line 201, in search\n    return _compile(pattern, flags).search(string)\nTypeError: expected string or bytes-like object\n\r\n\tat org.apache.spark.api.python.BasePythonRunner$ReaderIterator.handlePythonException(PythonRunner.scala:545)\r\n\tat org.apache.spark.api.python.PythonRunner$$anon$3.read(PythonRunner.scala:703)\r\n\tat org.apache.spark.api.python.PythonRunner$$anon$3.read(PythonRunner.scala:685)\r\n\tat org.apache.spark.api.python.BasePythonRunner$ReaderIterator.hasNext(PythonRunner.scala:498)\r\n\tat org.apache.spark.InterruptibleIterator.hasNext(InterruptibleIterator.scala:37)\r\n\tat scala.collection.Iterator$$anon$11.hasNext(Iterator.scala:491)\r\n\tat scala.collection.Iterator$$anon$10.hasNext(Iterator.scala:460)\r\n\tat scala.collection.Iterator$$anon$10.hasNext(Iterator.scala:460)\r\n\tat org.apache.spark.sql.catalyst.expressions.GeneratedClass$GeneratedIteratorForCodegenStage1.agg_doAggregateWithoutKey_0$(Unknown Source)\r\n\tat org.apache.spark.sql.catalyst.expressions.GeneratedClass$GeneratedIteratorForCodegenStage1.processNext(Unknown Source)\r\n\tat org.apache.spark.sql.execution.BufferedRowIterator.hasNext(BufferedRowIterator.java:43)\r\n\tat org.apache.spark.sql.execution.WholeStageCodegenExec$$anon$1.hasNext(WholeStageCodegenExec.scala:759)\r\n\tat scala.collection.Iterator$$anon$10.hasNext(Iterator.scala:460)\r\n\tat org.apache.spark.shuffle.sort.BypassMergeSortShuffleWriter.write(BypassMergeSortShuffleWriter.java:140)\r\n\tat org.apache.spark.shuffle.ShuffleWriteProcessor.write(ShuffleWriteProcessor.scala:59)\r\n\tat org.apache.spark.scheduler.ShuffleMapTask.runTask(ShuffleMapTask.scala:99)\r\n\tat org.apache.spark.scheduler.ShuffleMapTask.runTask(ShuffleMapTask.scala:52)\r\n\tat org.apache.spark.scheduler.Task.run(Task.scala:131)\r\n\tat org.apache.spark.executor.Executor$TaskRunner.$anonfun$run$3(Executor.scala:506)\r\n\tat org.apache.spark.util.Utils$.tryWithSafeFinally(Utils.scala:1462)\r\n\tat org.apache.spark.executor.Executor$TaskRunner.run(Executor.scala:509)\r\n\tat java.base/java.util.concurrent.ThreadPoolExecutor.runWorker(ThreadPoolExecutor.java:1128)\r\n\tat java.base/java.util.concurrent.ThreadPoolExecutor$Worker.run(ThreadPoolExecutor.java:628)\r\n\tat java.base/java.lang.Thread.run(Thread.java:834)\r\n",
     "output_type": "error",
     "traceback": [
      "\u001B[1;31m---------------------------------------------------------------------------\u001B[0m",
      "\u001B[1;31mPy4JJavaError\u001B[0m                             Traceback (most recent call last)",
      "\u001B[1;32m~\\AppData\\Local\\Temp/ipykernel_592/79112074.py\u001B[0m in \u001B[0;36m<module>\u001B[1;34m\u001B[0m\n\u001B[0;32m      4\u001B[0m \u001B[0mprint\u001B[0m\u001B[1;33m(\u001B[0m\u001B[1;34mf\"parisng time: {time.time() - start_time_single}\"\u001B[0m\u001B[1;33m)\u001B[0m\u001B[1;33m\u001B[0m\u001B[1;33m\u001B[0m\u001B[0m\n\u001B[0;32m      5\u001B[0m \u001B[0merroring_parsed_wikipedia_abstracts\u001B[0m\u001B[1;33m.\u001B[0m\u001B[0mprintSchema\u001B[0m\u001B[1;33m(\u001B[0m\u001B[1;33m)\u001B[0m\u001B[1;33m\u001B[0m\u001B[1;33m\u001B[0m\u001B[0m\n\u001B[1;32m----> 6\u001B[1;33m \u001B[0merroring_parsed_wikipedia_abstracts\u001B[0m\u001B[1;33m.\u001B[0m\u001B[0mcount\u001B[0m\u001B[1;33m(\u001B[0m\u001B[1;33m)\u001B[0m\u001B[1;33m\u001B[0m\u001B[1;33m\u001B[0m\u001B[0m\n\u001B[0m\u001B[0;32m      7\u001B[0m \u001B[1;33m\u001B[0m\u001B[0m\n",
      "\u001B[1;32m~\\PycharmProject\\vinf\\WikiAbstractParser\\irenv\\lib\\site-packages\\pyspark\\sql\\dataframe.py\u001B[0m in \u001B[0;36mcount\u001B[1;34m(self)\u001B[0m\n\u001B[0;32m    678\u001B[0m         \u001B[1;36m2\u001B[0m\u001B[1;33m\u001B[0m\u001B[1;33m\u001B[0m\u001B[0m\n\u001B[0;32m    679\u001B[0m         \"\"\"\n\u001B[1;32m--> 680\u001B[1;33m         \u001B[1;32mreturn\u001B[0m \u001B[0mint\u001B[0m\u001B[1;33m(\u001B[0m\u001B[0mself\u001B[0m\u001B[1;33m.\u001B[0m\u001B[0m_jdf\u001B[0m\u001B[1;33m.\u001B[0m\u001B[0mcount\u001B[0m\u001B[1;33m(\u001B[0m\u001B[1;33m)\u001B[0m\u001B[1;33m)\u001B[0m\u001B[1;33m\u001B[0m\u001B[1;33m\u001B[0m\u001B[0m\n\u001B[0m\u001B[0;32m    681\u001B[0m \u001B[1;33m\u001B[0m\u001B[0m\n\u001B[0;32m    682\u001B[0m     \u001B[1;32mdef\u001B[0m \u001B[0mcollect\u001B[0m\u001B[1;33m(\u001B[0m\u001B[0mself\u001B[0m\u001B[1;33m)\u001B[0m\u001B[1;33m:\u001B[0m\u001B[1;33m\u001B[0m\u001B[1;33m\u001B[0m\u001B[0m\n",
      "\u001B[1;32m~\\PycharmProject\\vinf\\WikiAbstractParser\\irenv\\lib\\site-packages\\py4j\\java_gateway.py\u001B[0m in \u001B[0;36m__call__\u001B[1;34m(self, *args)\u001B[0m\n\u001B[0;32m   1307\u001B[0m \u001B[1;33m\u001B[0m\u001B[0m\n\u001B[0;32m   1308\u001B[0m         \u001B[0manswer\u001B[0m \u001B[1;33m=\u001B[0m \u001B[0mself\u001B[0m\u001B[1;33m.\u001B[0m\u001B[0mgateway_client\u001B[0m\u001B[1;33m.\u001B[0m\u001B[0msend_command\u001B[0m\u001B[1;33m(\u001B[0m\u001B[0mcommand\u001B[0m\u001B[1;33m)\u001B[0m\u001B[1;33m\u001B[0m\u001B[1;33m\u001B[0m\u001B[0m\n\u001B[1;32m-> 1309\u001B[1;33m         return_value = get_return_value(\n\u001B[0m\u001B[0;32m   1310\u001B[0m             answer, self.gateway_client, self.target_id, self.name)\n\u001B[0;32m   1311\u001B[0m \u001B[1;33m\u001B[0m\u001B[0m\n",
      "\u001B[1;32m~\\PycharmProject\\vinf\\WikiAbstractParser\\irenv\\lib\\site-packages\\pyspark\\sql\\utils.py\u001B[0m in \u001B[0;36mdeco\u001B[1;34m(*a, **kw)\u001B[0m\n\u001B[0;32m    109\u001B[0m     \u001B[1;32mdef\u001B[0m \u001B[0mdeco\u001B[0m\u001B[1;33m(\u001B[0m\u001B[1;33m*\u001B[0m\u001B[0ma\u001B[0m\u001B[1;33m,\u001B[0m \u001B[1;33m**\u001B[0m\u001B[0mkw\u001B[0m\u001B[1;33m)\u001B[0m\u001B[1;33m:\u001B[0m\u001B[1;33m\u001B[0m\u001B[1;33m\u001B[0m\u001B[0m\n\u001B[0;32m    110\u001B[0m         \u001B[1;32mtry\u001B[0m\u001B[1;33m:\u001B[0m\u001B[1;33m\u001B[0m\u001B[1;33m\u001B[0m\u001B[0m\n\u001B[1;32m--> 111\u001B[1;33m             \u001B[1;32mreturn\u001B[0m \u001B[0mf\u001B[0m\u001B[1;33m(\u001B[0m\u001B[1;33m*\u001B[0m\u001B[0ma\u001B[0m\u001B[1;33m,\u001B[0m \u001B[1;33m**\u001B[0m\u001B[0mkw\u001B[0m\u001B[1;33m)\u001B[0m\u001B[1;33m\u001B[0m\u001B[1;33m\u001B[0m\u001B[0m\n\u001B[0m\u001B[0;32m    112\u001B[0m         \u001B[1;32mexcept\u001B[0m \u001B[0mpy4j\u001B[0m\u001B[1;33m.\u001B[0m\u001B[0mprotocol\u001B[0m\u001B[1;33m.\u001B[0m\u001B[0mPy4JJavaError\u001B[0m \u001B[1;32mas\u001B[0m \u001B[0me\u001B[0m\u001B[1;33m:\u001B[0m\u001B[1;33m\u001B[0m\u001B[1;33m\u001B[0m\u001B[0m\n\u001B[0;32m    113\u001B[0m             \u001B[0mconverted\u001B[0m \u001B[1;33m=\u001B[0m \u001B[0mconvert_exception\u001B[0m\u001B[1;33m(\u001B[0m\u001B[0me\u001B[0m\u001B[1;33m.\u001B[0m\u001B[0mjava_exception\u001B[0m\u001B[1;33m)\u001B[0m\u001B[1;33m\u001B[0m\u001B[1;33m\u001B[0m\u001B[0m\n",
      "\u001B[1;32m~\\PycharmProject\\vinf\\WikiAbstractParser\\irenv\\lib\\site-packages\\py4j\\protocol.py\u001B[0m in \u001B[0;36mget_return_value\u001B[1;34m(answer, gateway_client, target_id, name)\u001B[0m\n\u001B[0;32m    324\u001B[0m             \u001B[0mvalue\u001B[0m \u001B[1;33m=\u001B[0m \u001B[0mOUTPUT_CONVERTER\u001B[0m\u001B[1;33m[\u001B[0m\u001B[0mtype\u001B[0m\u001B[1;33m]\u001B[0m\u001B[1;33m(\u001B[0m\u001B[0manswer\u001B[0m\u001B[1;33m[\u001B[0m\u001B[1;36m2\u001B[0m\u001B[1;33m:\u001B[0m\u001B[1;33m]\u001B[0m\u001B[1;33m,\u001B[0m \u001B[0mgateway_client\u001B[0m\u001B[1;33m)\u001B[0m\u001B[1;33m\u001B[0m\u001B[1;33m\u001B[0m\u001B[0m\n\u001B[0;32m    325\u001B[0m             \u001B[1;32mif\u001B[0m \u001B[0manswer\u001B[0m\u001B[1;33m[\u001B[0m\u001B[1;36m1\u001B[0m\u001B[1;33m]\u001B[0m \u001B[1;33m==\u001B[0m \u001B[0mREFERENCE_TYPE\u001B[0m\u001B[1;33m:\u001B[0m\u001B[1;33m\u001B[0m\u001B[1;33m\u001B[0m\u001B[0m\n\u001B[1;32m--> 326\u001B[1;33m                 raise Py4JJavaError(\n\u001B[0m\u001B[0;32m    327\u001B[0m                     \u001B[1;34m\"An error occurred while calling {0}{1}{2}.\\n\"\u001B[0m\u001B[1;33m.\u001B[0m\u001B[1;33m\u001B[0m\u001B[1;33m\u001B[0m\u001B[0m\n\u001B[0;32m    328\u001B[0m                     format(target_id, \".\", name), value)\n",
      "\u001B[1;31mPy4JJavaError\u001B[0m: An error occurred while calling o248.count.\n: org.apache.spark.SparkException: Job aborted due to stage failure: Task 12 in stage 11.0 failed 1 times, most recent failure: Lost task 12.0 in stage 11.0 (TID 64) (147.175.179.16 executor driver): org.apache.spark.api.python.PythonException: Traceback (most recent call last):\n  File \"C:\\Users\\ollyt\\PycharmProject\\vinf\\WikiAbstractParser\\irenv\\Lib\\site-packages\\pyspark\\python\\lib\\pyspark.zip\\pyspark\\worker.py\", line 619, in main\n  File \"C:\\Users\\ollyt\\PycharmProject\\vinf\\WikiAbstractParser\\irenv\\Lib\\site-packages\\pyspark\\python\\lib\\pyspark.zip\\pyspark\\worker.py\", line 611, in process\n  File \"C:\\Users\\ollyt\\PycharmProject\\vinf\\WikiAbstractParser\\irenv\\Lib\\site-packages\\pyspark\\python\\lib\\pyspark.zip\\pyspark\\serializers.py\", line 259, in dump_stream\n    vs = list(itertools.islice(iterator, batch))\n  File \"C:\\Users\\ollyt\\PycharmProject\\vinf\\WikiAbstractParser\\irenv\\Lib\\site-packages\\pyspark\\python\\lib\\pyspark.zip\\pyspark\\util.py\", line 74, in wrapper\n    return f(*args, **kwargs)\n  File \"C:\\Users\\ollyt\\AppData\\Local\\Temp/ipykernel_592/3782531833.py\", line 17, in <lambda>\n  File \"C:\\Users\\ollyt\\AppData\\Local\\Programs\\Python\\Python39\\lib\\re.py\", line 201, in search\n    return _compile(pattern, flags).search(string)\nTypeError: expected string or bytes-like object\n\r\n\tat org.apache.spark.api.python.BasePythonRunner$ReaderIterator.handlePythonException(PythonRunner.scala:545)\r\n\tat org.apache.spark.api.python.PythonRunner$$anon$3.read(PythonRunner.scala:703)\r\n\tat org.apache.spark.api.python.PythonRunner$$anon$3.read(PythonRunner.scala:685)\r\n\tat org.apache.spark.api.python.BasePythonRunner$ReaderIterator.hasNext(PythonRunner.scala:498)\r\n\tat org.apache.spark.InterruptibleIterator.hasNext(InterruptibleIterator.scala:37)\r\n\tat scala.collection.Iterator$$anon$11.hasNext(Iterator.scala:491)\r\n\tat scala.collection.Iterator$$anon$10.hasNext(Iterator.scala:460)\r\n\tat scala.collection.Iterator$$anon$10.hasNext(Iterator.scala:460)\r\n\tat org.apache.spark.sql.catalyst.expressions.GeneratedClass$GeneratedIteratorForCodegenStage1.agg_doAggregateWithoutKey_0$(Unknown Source)\r\n\tat org.apache.spark.sql.catalyst.expressions.GeneratedClass$GeneratedIteratorForCodegenStage1.processNext(Unknown Source)\r\n\tat org.apache.spark.sql.execution.BufferedRowIterator.hasNext(BufferedRowIterator.java:43)\r\n\tat org.apache.spark.sql.execution.WholeStageCodegenExec$$anon$1.hasNext(WholeStageCodegenExec.scala:759)\r\n\tat scala.collection.Iterator$$anon$10.hasNext(Iterator.scala:460)\r\n\tat org.apache.spark.shuffle.sort.BypassMergeSortShuffleWriter.write(BypassMergeSortShuffleWriter.java:140)\r\n\tat org.apache.spark.shuffle.ShuffleWriteProcessor.write(ShuffleWriteProcessor.scala:59)\r\n\tat org.apache.spark.scheduler.ShuffleMapTask.runTask(ShuffleMapTask.scala:99)\r\n\tat org.apache.spark.scheduler.ShuffleMapTask.runTask(ShuffleMapTask.scala:52)\r\n\tat org.apache.spark.scheduler.Task.run(Task.scala:131)\r\n\tat org.apache.spark.executor.Executor$TaskRunner.$anonfun$run$3(Executor.scala:506)\r\n\tat org.apache.spark.util.Utils$.tryWithSafeFinally(Utils.scala:1462)\r\n\tat org.apache.spark.executor.Executor$TaskRunner.run(Executor.scala:509)\r\n\tat java.base/java.util.concurrent.ThreadPoolExecutor.runWorker(ThreadPoolExecutor.java:1128)\r\n\tat java.base/java.util.concurrent.ThreadPoolExecutor$Worker.run(ThreadPoolExecutor.java:628)\r\n\tat java.base/java.lang.Thread.run(Thread.java:834)\r\n\nDriver stacktrace:\r\n\tat org.apache.spark.scheduler.DAGScheduler.failJobAndIndependentStages(DAGScheduler.scala:2403)\r\n\tat org.apache.spark.scheduler.DAGScheduler.$anonfun$abortStage$2(DAGScheduler.scala:2352)\r\n\tat org.apache.spark.scheduler.DAGScheduler.$anonfun$abortStage$2$adapted(DAGScheduler.scala:2351)\r\n\tat scala.collection.mutable.ResizableArray.foreach(ResizableArray.scala:62)\r\n\tat scala.collection.mutable.ResizableArray.foreach$(ResizableArray.scala:55)\r\n\tat scala.collection.mutable.ArrayBuffer.foreach(ArrayBuffer.scala:49)\r\n\tat org.apache.spark.scheduler.DAGScheduler.abortStage(DAGScheduler.scala:2351)\r\n\tat org.apache.spark.scheduler.DAGScheduler.$anonfun$handleTaskSetFailed$1(DAGScheduler.scala:1109)\r\n\tat org.apache.spark.scheduler.DAGScheduler.$anonfun$handleTaskSetFailed$1$adapted(DAGScheduler.scala:1109)\r\n\tat scala.Option.foreach(Option.scala:407)\r\n\tat org.apache.spark.scheduler.DAGScheduler.handleTaskSetFailed(DAGScheduler.scala:1109)\r\n\tat org.apache.spark.scheduler.DAGSchedulerEventProcessLoop.doOnReceive(DAGScheduler.scala:2591)\r\n\tat org.apache.spark.scheduler.DAGSchedulerEventProcessLoop.onReceive(DAGScheduler.scala:2533)\r\n\tat org.apache.spark.scheduler.DAGSchedulerEventProcessLoop.onReceive(DAGScheduler.scala:2522)\r\n\tat org.apache.spark.util.EventLoop$$anon$1.run(EventLoop.scala:49)\r\nCaused by: org.apache.spark.api.python.PythonException: Traceback (most recent call last):\n  File \"C:\\Users\\ollyt\\PycharmProject\\vinf\\WikiAbstractParser\\irenv\\Lib\\site-packages\\pyspark\\python\\lib\\pyspark.zip\\pyspark\\worker.py\", line 619, in main\n  File \"C:\\Users\\ollyt\\PycharmProject\\vinf\\WikiAbstractParser\\irenv\\Lib\\site-packages\\pyspark\\python\\lib\\pyspark.zip\\pyspark\\worker.py\", line 611, in process\n  File \"C:\\Users\\ollyt\\PycharmProject\\vinf\\WikiAbstractParser\\irenv\\Lib\\site-packages\\pyspark\\python\\lib\\pyspark.zip\\pyspark\\serializers.py\", line 259, in dump_stream\n    vs = list(itertools.islice(iterator, batch))\n  File \"C:\\Users\\ollyt\\PycharmProject\\vinf\\WikiAbstractParser\\irenv\\Lib\\site-packages\\pyspark\\python\\lib\\pyspark.zip\\pyspark\\util.py\", line 74, in wrapper\n    return f(*args, **kwargs)\n  File \"C:\\Users\\ollyt\\AppData\\Local\\Temp/ipykernel_592/3782531833.py\", line 17, in <lambda>\n  File \"C:\\Users\\ollyt\\AppData\\Local\\Programs\\Python\\Python39\\lib\\re.py\", line 201, in search\n    return _compile(pattern, flags).search(string)\nTypeError: expected string or bytes-like object\n\r\n\tat org.apache.spark.api.python.BasePythonRunner$ReaderIterator.handlePythonException(PythonRunner.scala:545)\r\n\tat org.apache.spark.api.python.PythonRunner$$anon$3.read(PythonRunner.scala:703)\r\n\tat org.apache.spark.api.python.PythonRunner$$anon$3.read(PythonRunner.scala:685)\r\n\tat org.apache.spark.api.python.BasePythonRunner$ReaderIterator.hasNext(PythonRunner.scala:498)\r\n\tat org.apache.spark.InterruptibleIterator.hasNext(InterruptibleIterator.scala:37)\r\n\tat scala.collection.Iterator$$anon$11.hasNext(Iterator.scala:491)\r\n\tat scala.collection.Iterator$$anon$10.hasNext(Iterator.scala:460)\r\n\tat scala.collection.Iterator$$anon$10.hasNext(Iterator.scala:460)\r\n\tat org.apache.spark.sql.catalyst.expressions.GeneratedClass$GeneratedIteratorForCodegenStage1.agg_doAggregateWithoutKey_0$(Unknown Source)\r\n\tat org.apache.spark.sql.catalyst.expressions.GeneratedClass$GeneratedIteratorForCodegenStage1.processNext(Unknown Source)\r\n\tat org.apache.spark.sql.execution.BufferedRowIterator.hasNext(BufferedRowIterator.java:43)\r\n\tat org.apache.spark.sql.execution.WholeStageCodegenExec$$anon$1.hasNext(WholeStageCodegenExec.scala:759)\r\n\tat scala.collection.Iterator$$anon$10.hasNext(Iterator.scala:460)\r\n\tat org.apache.spark.shuffle.sort.BypassMergeSortShuffleWriter.write(BypassMergeSortShuffleWriter.java:140)\r\n\tat org.apache.spark.shuffle.ShuffleWriteProcessor.write(ShuffleWriteProcessor.scala:59)\r\n\tat org.apache.spark.scheduler.ShuffleMapTask.runTask(ShuffleMapTask.scala:99)\r\n\tat org.apache.spark.scheduler.ShuffleMapTask.runTask(ShuffleMapTask.scala:52)\r\n\tat org.apache.spark.scheduler.Task.run(Task.scala:131)\r\n\tat org.apache.spark.executor.Executor$TaskRunner.$anonfun$run$3(Executor.scala:506)\r\n\tat org.apache.spark.util.Utils$.tryWithSafeFinally(Utils.scala:1462)\r\n\tat org.apache.spark.executor.Executor$TaskRunner.run(Executor.scala:509)\r\n\tat java.base/java.util.concurrent.ThreadPoolExecutor.runWorker(ThreadPoolExecutor.java:1128)\r\n\tat java.base/java.util.concurrent.ThreadPoolExecutor$Worker.run(ThreadPoolExecutor.java:628)\r\n\tat java.base/java.lang.Thread.run(Thread.java:834)\r\n"
     ]
    }
   ],
   "source": [
    "absolute_path = data_dir + '/' + xml_files[1]\n",
    "start_time_single = time.time()\n",
    "erroring_parsed_wikipedia_abstracts = parse_wiki_articles_file(spark, path=absolute_path)\n",
    "print(f\"parisng time: {time.time() - start_time_single}\")\n",
    "erroring_parsed_wikipedia_abstracts.printSchema()\n",
    "erroring_parsed_wikipedia_abstracts.count()"
   ],
   "metadata": {
    "collapsed": false,
    "pycharm": {
     "name": "#%%\n"
    }
   }
  },
  {
   "cell_type": "code",
   "execution_count": 85,
   "outputs": [],
   "source": [
    "# parsed_wikipedia_abstracts.count()\n",
    " # .csv(path=result_dir, sep='\\t', mode='overwrite', header=False)"
   ],
   "metadata": {
    "collapsed": false,
    "pycharm": {
     "name": "#%%\n"
    }
   }
  },
  {
   "cell_type": "code",
   "execution_count": null,
   "outputs": [],
   "source": [
    "# Parse abstracts from abstracts dump\n",
    "abstracts_absolute_path = data_dir + '\\enwiki-latest-abstract.xml'\n",
    "if os.path.exists(abstracts_absolute_path):\n",
    "    start_time = time.time()\n",
    "    wiki_abstracts = parse_wiki_abstracts_file(spark, path=abstracts_absolute_path)\n",
    "    print(f\"elapsed: {time.time() - start_time}\")\n",
    "    wiki_abstracts.show(20)"
   ],
   "metadata": {
    "collapsed": false,
    "pycharm": {
     "name": "#%%\n"
    }
   }
  },
  {
   "cell_type": "code",
   "execution_count": 5,
   "metadata": {
    "pycharm": {
     "name": "#%%\n"
    }
   },
   "outputs": [
    {
     "name": "stdout",
     "output_type": "stream",
     "text": [
      "elapsed: 0.04381728172302246\n",
      "+--------------------+--------------------+\n",
      "|               title|            abstract|\n",
      "+--------------------+--------------------+\n",
      "|                null|                null|\n",
      "|     Animalia_(book)|Animalia is an il...|\n",
      "|Agricultural_science|Agricultural scie...|\n",
      "|              Albedo|Albedo () (Latin:...|\n",
      "|        Alain_Connes|Alain Connes (Fre...|\n",
      "|International_Ato...|International Ato...|\n",
      "|                   A|A or a is the fir...|\n",
      "|An_American_in_Paris|An American in Pa...|\n",
      "|List_of_Atlas_Shr...|This is a list of...|\n",
      "|          Allan_Dwan|Allan Dwan (born ...|\n",
      "|          Astronomer|An astronomer is ...|\n",
      "|            Achilles|In Greek mytholog...|\n",
      "|           Anarchism|Anarchism is a po...|\n",
      "|        Anthropology|Anthropology is t...|\n",
      "|              Autism|Autism is a devel...|\n",
      "|      Academy_Awards|The Academy Award...|\n",
      "|             Actrius|Actresses (Catala...|\n",
      "|        Answer_(law)|In law, an Answer...|\n",
      "|Academy_Award_for...|The Academy Award...|\n",
      "|Appellate_procedu...|United States app...|\n",
      "+--------------------+--------------------+\n",
      "only showing top 20 rows\n",
      "\n"
     ]
    }
   ],
   "source": [
    "# Parse abstracts from dbpedia dump\n",
    "dbpedia_absolute_path = data_dir + '\\long-abstracts_lang=en.ttl'\n",
    "if os.path.exists(dbpedia_absolute_path):\n",
    "    start_time = time.time()\n",
    "    dbpedia_abstracts = parse_dbpedia_abstract_file(spark, path='../../' + DBPEDIA_ABSTRACTS_DUMPFILE_PATH)\n",
    "    print(f\"elapsed: {time.time() - start_time}\")\n",
    "    dbpedia_abstracts.show(20)"
   ]
  },
  {
   "cell_type": "code",
   "execution_count": 8,
   "metadata": {
    "pycharm": {
     "name": "#%%\n"
    }
   },
   "outputs": [],
   "source": [
    "# print(f\"count parsed wiki abstracts: {parsed_wikipedia_abstracts.count()}\")\n",
    "# print(f\"count dbpedia {dbpedia_abstracts.count()}\")\n",
    "# print(f\"count wiki abstracts {wiki_abstracts.count()}\")\n",
    "\n"
   ]
  },
  {
   "cell_type": "code",
   "execution_count": 6,
   "outputs": [],
   "source": [
    "def write_df_to_csv(dataframe, path_to_csv):\n",
    "    # dataframe = dataframe.coalesce(1)\n",
    "    dataframe.write.csv(path_to_csv, sep='\\t', header=False, mode='overwrite')"
   ],
   "metadata": {
    "collapsed": false,
    "pycharm": {
     "name": "#%%\n"
    }
   }
  },
  {
   "cell_type": "markdown",
   "source": [
    "#### PARSED ABSTRACTS TO CSV"
   ],
   "metadata": {
    "collapsed": false,
    "pycharm": {
     "name": "#%% md\n"
    }
   }
  },
  {
   "cell_type": "code",
   "execution_count": 7,
   "outputs": [
    {
     "name": "stdout",
     "output_type": "stream",
     "text": [
      "elapsed: 43.86532926559448\n"
     ]
    }
   ],
   "source": [
    "start_time = time.time()\n",
    "\n",
    "write_df_to_csv(parsed_wikipedia_abstracts,\n",
    "                path_to_csv='../../data/document_base/parsed_abstracts_spark')\n",
    "print(f\"elapsed: {time.time() - start_time}\")"
   ],
   "metadata": {
    "collapsed": false,
    "pycharm": {
     "name": "#%%\n"
    }
   }
  },
  {
   "cell_type": "code",
   "execution_count": 8,
   "outputs": [
    {
     "name": "stdout",
     "output_type": "stream",
     "text": [
      "elapsed: 219.0451045036316\n"
     ]
    }
   ],
   "source": [
    "start_time = time.time()\n",
    "\n",
    "write_df_to_csv(wiki_abstracts,\n",
    "                path_to_csv='../../data/document_base/wiki_abstracts_spark')\n",
    "print(f\"elapsed: {time.time() - start_time}\")"
   ],
   "metadata": {
    "collapsed": false,
    "pycharm": {
     "name": "#%%\n"
    }
   }
  },
  {
   "cell_type": "code",
   "execution_count": 9,
   "outputs": [
    {
     "name": "stdout",
     "output_type": "stream",
     "text": [
      "elapsed: 87.75686526298523\n"
     ]
    }
   ],
   "source": [
    "\n",
    "start_time = time.time()\n",
    "\n",
    "write_df_to_csv(dbpedia_abstracts,\n",
    "                path_to_csv='../../data/document_base/dbpedia_abstracts_spark')\n",
    "print(f\"elapsed: {time.time() - start_time}\")"
   ],
   "metadata": {
    "collapsed": false,
    "pycharm": {
     "name": "#%%\n"
    }
   }
  },
  {
   "cell_type": "code",
   "execution_count": 14,
   "outputs": [],
   "source": [
    "spark.stop()\n"
   ],
   "metadata": {
    "collapsed": false,
    "pycharm": {
     "name": "#%%\n"
    }
   }
  }
 ],
 "metadata": {
  "kernelspec": {
   "display_name": "Python 3 (ipykernel)",
   "language": "python",
   "name": "python3"
  },
  "language_info": {
   "codemirror_mode": {
    "name": "ipython",
    "version": 3
   },
   "file_extension": ".py",
   "mimetype": "text/x-python",
   "name": "python",
   "nbconvert_exporter": "python",
   "pygments_lexer": "ipython3",
   "version": "3.9.7"
  }
 },
 "nbformat": 4,
 "nbformat_minor": 1
}