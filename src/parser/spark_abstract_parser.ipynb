{
 "cells": [
  {
   "cell_type": "code",
   "execution_count": 1,
   "metadata": {},
   "outputs": [],
   "source": [
    "import re, csv, datetime\n",
    "from pyspark.sql import SparkSession\n",
    "from pyspark.sql.types import *\n",
    "from pyspark import SparkContext\n",
    "\n",
    "MEDIAWIKI_ARTICLES_DUMPFILE_PATH = 'data/enwiki-latest-pages-articles1.xml'\n",
    "MEDIAWIKI_ABSTRACTS_DUMPFILE_PATH = 'data/enwiki-latest-abstract.xml'\n",
    "DBPEDIA_ABSTRACTS_DUMPFILE_PATH = '/data/long-abstracts_lang=en.ttl'\n",
    "\n",
    "WIKI_ABSTRACTS_SAMPLE_PATH = 'data/raw_sample_data/wiki_abstracts_sample.xml'\n",
    "DBPEDIA_ABSTRACTS_SAMPLE_PATH = 'data/raw_sample_data/dbpedia_abstracts'\n",
    "\n",
    "PARSED_ABSTRACTS_PATH = '../../data/document_base/parsed_abstracts_spark.csv'\n",
    "\n",
    "spark = SparkSession.builder.getOrCreate()\n",
    "sc = spark.sparkContext"
   ]
  },
  {
   "cell_type": "code",
   "execution_count": 2,
   "metadata": {
    "pycharm": {
     "name": "#%%\n"
    }
   },
   "outputs": [],
   "source": [
    "def parse_wiki_articles_file(spark, path):\n",
    "    abstract_pattern = r\"'''([^\\=]*)(?=(={1,6})([^\\n]+?)(={1,6})[ \\t]*(\\n|\\Z))\"\n",
    "    customSchema = StructType([\n",
    "        StructField('title', StringType(), nullable=False),\n",
    "        StructField('revision', StructType([\n",
    "            StructField('text', StructType([\n",
    "                StructField('_VALUE', StringType(), nullable=True)\n",
    "            ]), nullable=False)\n",
    "        ]), nullable=False)\n",
    "    ])\n",
    "    df = spark.read.format('com.databricks.spark.xml')\\\n",
    "        .options(rowTag='page').load(path, schema=customSchema)\n",
    "    df.printSchema()\n",
    "    all_abstracts_rdd = df.rdd.map(\n",
    "        lambda loop: (\n",
    "            loop['title'],\n",
    "            abstract_text.group(0).replace('\\n', ' ')\n",
    "            if (abstract_text := re.search(pattern=abstract_pattern,\n",
    "                                           string=loop['revision']['text']['_VALUE'],\n",
    "                                           flags=re.MULTILINE | re.DOTALL)\n",
    "                ) is not None else None\n",
    "        ))\n",
    "    all_abstracts = all_abstracts_rdd.toDF(['title', 'abstract'])\n",
    "    valid_abstracts = all_abstracts.dropna()\n",
    "    return valid_abstracts\n",
    "\n",
    "def parse_wiki_abstracts_file(spark, path):\n",
    "    title_pattern = r\"^Wikipedia: ([^\\n]*)\"\n",
    "    customSchema = StructType([\n",
    "        StructField('title', StringType(), False),\n",
    "        StructField('abstract', StringType(), False)\n",
    "    ])\n",
    "    df = spark.read.format(\"com.databricks.spark.xml\")\\\n",
    "        .options(rowTag='doc').load(path, schema=customSchema)\n",
    "    wiki_abstract_rdd = df.rdd.map(\n",
    "        lambda loop: (\n",
    "            re.search(pattern=title_pattern, string=loop['title']).group(1).replace('\\n', ' '),\n",
    "            loop['abstract']\n",
    "        ))\n",
    "    all_wiki_abstracts = wiki_abstract_rdd.toDF(['title', 'abstract'])\n",
    "    valid_abstracts = all_wiki_abstracts.dropna()\n",
    "    return valid_abstracts\n",
    "\n",
    "def parse_dbpedia_abstract_file(spark, path):\n",
    "    title_pattern = r\"^<http:\\/\\/dbpedia\\.org\\/resource\\/([^\\>]*)> <\"\n",
    "    abstract_pattern = re.compile(r'\"([^\"]*)\"')\n",
    "    sc = spark.sparkContext\n",
    "    rdd = sc.textFile(path)\n",
    "    rdd = rdd.map(\n",
    "        lambda loop: (\n",
    "            title.group(1)\n",
    "            if (title := re.search(title_pattern, loop)) is not None else None,\n",
    "            abstract.group(1)\n",
    "            if (abstract := re.search(abstract_pattern, loop)) is not None else None\n",
    "        ))\n",
    "    rdd = rdd.filter(lambda row: filter(None, row))\n",
    "    return rdd"
   ]
  },
  {
   "cell_type": "code",
   "execution_count": 12,
   "outputs": [
    {
     "name": "stdout",
     "output_type": "stream",
     "text": [
      "['enwiki-20211101-pages-articles1.xml', 'enwiki-20211101-pages-articles2.xml', 'enwiki-20211101-pages-articles3.xml']\n"
     ]
    }
   ],
   "source": [
    "# Parse abstracts from articles\n",
    "import time, os, glob\n",
    "data_dir = \"d:\\Study\\STU FIIT\\ZS 21-22\\Information Retrival\\wikidata\\wiki_articles\"\n",
    "extension = 'xml'\n",
    "os.chdir(data_dir)\n",
    "xml_files = glob.glob(f\"*.{extension}\")\n",
    "print(xml_files)\n",
    "\n",
    "start_time = time.time()\n",
    "parsed_wikipedia_abstracts_0 = parse_wiki_articles_file(spark,\n",
    "                                                        path= data_dir + xml_files[0])\n",
    "parsed_wikipedia_abstracts_1 = parse_wiki_articles_file(spark,\n",
    "                                                        path= data_dir + xml_files[1])\n",
    "print(f\"parsing elapsed: {time.time() - start_time}\")\n",
    "\n",
    "\n",
    "start_time = time.time()\n",
    "all_parsed_wikipedia_abstracts = parsed_wikipedia_abstracts_0.union(parsed_wikipedia_abstracts_1)\n",
    "print(f\"union elapsed: {time.time() - start_time}\")\n",
    "# for file in xml_files:\n",
    "#     absolute_path = data_dir + file\n",
    "#     if os.path.exists(absolute_path):\n",
    "#         start_time = time.time()\n",
    "#         parsed_wikipedia_abstracts = parse_wiki_articles_file(spark, path=absolute_path)\n",
    "#         print(f\"elapsed: {time.time() - start_time}\")"
   ],
   "metadata": {
    "collapsed": false,
    "pycharm": {
     "name": "#%%\n"
    }
   }
  },
  {
   "cell_type": "code",
   "execution_count": 4,
   "outputs": [
    {
     "name": "stdout",
     "output_type": "stream",
     "text": [
      "elapsed: 2.1997337341308594\n",
      "+--------------------+--------------------+\n",
      "|               title|            abstract|\n",
      "+--------------------+--------------------+\n",
      "|           Anarchism|Anarchism is a po...|\n",
      "|              Autism|| duration     =L...|\n",
      "|              Albedo|Albedo (; ) is th...|\n",
      "|                   A|           A-sharp}}|\n",
      "|             Alabama|(We dare defend o...|\n",
      "|            Achilles|In Greek mytholog...|\n",
      "|     Abraham Lincoln|| alt            ...|\n",
      "|           Aristotle|                  }}|\n",
      "|An American in Paris|An American in Pa...|\n",
      "|Academy Award for...|The Academy Award...|\n",
      "|      Academy Awards|             Oscar}}|\n",
      "|             Actrius|  | starring       =|\n",
      "|     Animalia (book)|Animalia is an il...|\n",
      "|International Ato...|International Ato...|\n",
      "|            Altruism|Altruism is the p...|\n",
      "|            Ayn Rand|| birth_place = S...|\n",
      "|        Alain Connes|| birth_place = D...|\n",
      "|          Allan Dwan|| birth_place  = ...|\n",
      "|             Algeria|| common_name = A...|\n",
      "|List of Atlas Shr...|This is a list of...|\n",
      "+--------------------+--------------------+\n",
      "only showing top 20 rows\n",
      "\n"
     ]
    }
   ],
   "source": [
    "# Parse abstracts from abstracts dump\n",
    "abstracts_absolute_path = data_dir + '\\enwiki-latest-abstract.xml'\n",
    "if os.path.exists(abstracts_absolute_path):\n",
    "    start_time = time.time()\n",
    "    wiki_abstracts = parse_wiki_abstracts_file(spark, path=abstracts_absolute_path)\n",
    "    print(f\"elapsed: {time.time() - start_time}\")\n",
    "    wiki_abstracts.show(20)"
   ],
   "metadata": {
    "collapsed": false,
    "pycharm": {
     "name": "#%%\n"
    }
   }
  },
  {
   "cell_type": "code",
   "execution_count": 5,
   "metadata": {
    "pycharm": {
     "name": "#%%\n"
    }
   },
   "outputs": [
    {
     "name": "stdout",
     "output_type": "stream",
     "text": [
      "elapsed: 0.04381728172302246\n",
      "+--------------------+--------------------+\n",
      "|               title|            abstract|\n",
      "+--------------------+--------------------+\n",
      "|                null|                null|\n",
      "|     Animalia_(book)|Animalia is an il...|\n",
      "|Agricultural_science|Agricultural scie...|\n",
      "|              Albedo|Albedo () (Latin:...|\n",
      "|        Alain_Connes|Alain Connes (Fre...|\n",
      "|International_Ato...|International Ato...|\n",
      "|                   A|A or a is the fir...|\n",
      "|An_American_in_Paris|An American in Pa...|\n",
      "|List_of_Atlas_Shr...|This is a list of...|\n",
      "|          Allan_Dwan|Allan Dwan (born ...|\n",
      "|          Astronomer|An astronomer is ...|\n",
      "|            Achilles|In Greek mytholog...|\n",
      "|           Anarchism|Anarchism is a po...|\n",
      "|        Anthropology|Anthropology is t...|\n",
      "|              Autism|Autism is a devel...|\n",
      "|      Academy_Awards|The Academy Award...|\n",
      "|             Actrius|Actresses (Catala...|\n",
      "|        Answer_(law)|In law, an Answer...|\n",
      "|Academy_Award_for...|The Academy Award...|\n",
      "|Appellate_procedu...|United States app...|\n",
      "+--------------------+--------------------+\n",
      "only showing top 20 rows\n",
      "\n"
     ]
    }
   ],
   "source": [
    "# Parse abstracts from dbpedia dump\n",
    "dbpedia_absolute_path = data_dir + '\\long-abstracts_lang=en.ttl'\n",
    "if os.path.exists(dbpedia_absolute_path):\n",
    "    start_time = time.time()\n",
    "    dbpedia_abstracts = parse_dbpedia_abstract_file(spark, path='../../' + DBPEDIA_ABSTRACTS_DUMPFILE_PATH)\n",
    "    print(f\"elapsed: {time.time() - start_time}\")\n",
    "    dbpedia_abstracts = dbpedia_abstracts.toDF(['title', 'abstract'])\n",
    "    dbpedia_abstracts.show(20)"
   ]
  },
  {
   "cell_type": "code",
   "execution_count": 8,
   "metadata": {
    "pycharm": {
     "name": "#%%\n"
    }
   },
   "outputs": [],
   "source": [
    "# print(f\"count parsed wiki abstracts: {parsed_wikipedia_abstracts.count()}\")\n",
    "# print(f\"count dbpedia {dbpedia_abstracts.count()}\")\n",
    "# print(f\"count wiki abstracts {wiki_abstracts.count()}\")\n",
    "\n"
   ]
  },
  {
   "cell_type": "code",
   "execution_count": 6,
   "outputs": [],
   "source": [
    "def write_df_to_csv(dataframe, path_to_csv):\n",
    "    # dataframe = dataframe.coalesce(1)\n",
    "    dataframe.write.csv(path_to_csv, sep='\\t', header=False, mode='overwrite')"
   ],
   "metadata": {
    "collapsed": false,
    "pycharm": {
     "name": "#%%\n"
    }
   }
  },
  {
   "cell_type": "markdown",
   "source": [
    "#### PARSED ABSTRACTS TO CSV"
   ],
   "metadata": {
    "collapsed": false,
    "pycharm": {
     "name": "#%% md\n"
    }
   }
  },
  {
   "cell_type": "code",
   "execution_count": 7,
   "outputs": [
    {
     "name": "stdout",
     "output_type": "stream",
     "text": [
      "elapsed: 43.86532926559448\n"
     ]
    }
   ],
   "source": [
    "start_time = time.time()\n",
    "\n",
    "write_df_to_csv(parsed_wikipedia_abstracts,\n",
    "                path_to_csv='../../data/document_base/parsed_abstracts_spark')\n",
    "print(f\"elapsed: {time.time() - start_time}\")"
   ],
   "metadata": {
    "collapsed": false,
    "pycharm": {
     "name": "#%%\n"
    }
   }
  },
  {
   "cell_type": "code",
   "execution_count": 8,
   "outputs": [
    {
     "name": "stdout",
     "output_type": "stream",
     "text": [
      "elapsed: 219.0451045036316\n"
     ]
    }
   ],
   "source": [
    "start_time = time.time()\n",
    "\n",
    "write_df_to_csv(wiki_abstracts,\n",
    "                path_to_csv='../../data/document_base/wiki_abstracts_spark')\n",
    "print(f\"elapsed: {time.time() - start_time}\")"
   ],
   "metadata": {
    "collapsed": false,
    "pycharm": {
     "name": "#%%\n"
    }
   }
  },
  {
   "cell_type": "code",
   "execution_count": 9,
   "outputs": [
    {
     "name": "stdout",
     "output_type": "stream",
     "text": [
      "elapsed: 87.75686526298523\n"
     ]
    }
   ],
   "source": [
    "\n",
    "start_time = time.time()\n",
    "\n",
    "write_df_to_csv(dbpedia_abstracts,\n",
    "                path_to_csv='../../data/document_base/dbpedia_abstracts_spark')\n",
    "print(f\"elapsed: {time.time() - start_time}\")"
   ],
   "metadata": {
    "collapsed": false,
    "pycharm": {
     "name": "#%%\n"
    }
   }
  },
  {
   "cell_type": "code",
   "execution_count": 14,
   "outputs": [],
   "source": [
    "spark.stop()\n"
   ],
   "metadata": {
    "collapsed": false,
    "pycharm": {
     "name": "#%%\n"
    }
   }
  }
 ],
 "metadata": {
  "kernelspec": {
   "display_name": "Python 3 (ipykernel)",
   "language": "python",
   "name": "python3"
  },
  "language_info": {
   "codemirror_mode": {
    "name": "ipython",
    "version": 3
   },
   "file_extension": ".py",
   "mimetype": "text/x-python",
   "name": "python",
   "nbconvert_exporter": "python",
   "pygments_lexer": "ipython3",
   "version": "3.9.7"
  }
 },
 "nbformat": 4,
 "nbformat_minor": 1
}