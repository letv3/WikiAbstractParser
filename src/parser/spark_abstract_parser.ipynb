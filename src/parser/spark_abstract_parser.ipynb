{
 "cells": [
  {
   "cell_type": "code",
   "execution_count": 26,
   "metadata": {},
   "outputs": [],
   "source": [
    "import time, os, glob,re\n",
    "\n",
    "import pyspark.sql.functions as sparkfunctions\n",
    "from pyspark.sql import SparkSession\n",
    "from pyspark.sql.types import *\n",
    "from pyspark import SparkContext\n",
    "\n",
    "MEDIAWIKI_ARTICLES_DUMPFILE_PATH = 'data/enwiki-latest-pages-articles1.xml'\n",
    "MEDIAWIKI_ABSTRACTS_DUMPFILE_PATH = 'data/enwiki-latest-abstract.xml'\n",
    "DBPEDIA_ABSTRACTS_DUMPFILE_PATH = '/data/long-abstracts_lang=en.ttl'\n",
    "\n",
    "WIKI_ABSTRACTS_SAMPLE_PATH = 'data/raw_sample_data/wiki_abstracts_sample.xml'\n",
    "DBPEDIA_ABSTRACTS_SAMPLE_PATH = 'data/raw_sample_data/dbpedia_abstracts'\n",
    "\n",
    "PARSED_ABSTRACTS_PATH = '../../data/document_base/parsed_abstracts'\n",
    "\n",
    "spark = SparkSession.builder.getOrCreate()\n",
    "sc = spark.sparkContext"
   ]
  },
  {
   "cell_type": "code",
   "execution_count": 24,
   "metadata": {
    "pycharm": {
     "name": "#%%\n"
    }
   },
   "outputs": [],
   "source": [
    "def check_object(obj):\n",
    "    if isinstance(obj, str):\n",
    "        if obj != '':\n",
    "            return obj\n",
    "    return ''\n",
    "\n",
    "def parse_wiki_articles_file(spark, path):\n",
    "    abstract_pattern = r\"'''([^\\=]*)(?=(={1,6})([^\\n]+?)(={1,6})[ \\t]*(\\n|\\Z))\"\n",
    "    customSchema = StructType([\n",
    "        StructField('title', StringType()),\n",
    "        StructField('revision', StructType([\n",
    "            StructField('text', StructType([\n",
    "                StructField('_VALUE', StringType())\n",
    "            ]))\n",
    "        ]))\n",
    "    ])\n",
    "    df = spark.read.format('com.databricks.spark.xml')\\\n",
    "        .options(rowTag='page').load(path, schema=customSchema)\n",
    "    all_abstracts_rdd = df.rdd.map(\n",
    "        lambda loop: (\n",
    "            loop['title'],\n",
    "            abstract_text.group(0).replace('\\n', ' ')\n",
    "            if (abstract_text := re.search(pattern=abstract_pattern,\n",
    "                                           string=check_object(loop['revision']['text']['_VALUE']),\n",
    "                                           flags=re.MULTILINE | re.DOTALL)\n",
    "                ) is not None else None\n",
    "        ))\n",
    "    all_abstracts = all_abstracts_rdd.toDF(['title', 'abstract'])\n",
    "    valid_abstracts = all_abstracts.dropna()\n",
    "    valid_abstracts = valid_abstracts.filter(~valid_abstracts.title.contains(\"Wikipedia:Articles for deletion\"))\n",
    "    return valid_abstracts"
   ]
  },
  {
   "cell_type": "code",
   "execution_count": null,
   "outputs": [],
   "source": [
    "def parse_wiki_abstracts_file(spark, path):\n",
    "    title_pattern = r\"^Wikipedia: ([^\\n]*)\"\n",
    "    customSchema = StructType([\n",
    "        StructField('title', StringType(), False),\n",
    "        StructField('abstract', StringType(), False)\n",
    "    ])\n",
    "    df = spark.read.format(\"com.databricks.spark.xml\")\\\n",
    "        .options(rowTag='doc').load(path, schema=customSchema)\n",
    "    wiki_abstract_rdd = df.rdd.map(\n",
    "        lambda loop: (\n",
    "            re.search(pattern=title_pattern, string=loop['title']).group(1).replace('\\n', ' '),\n",
    "            loop['abstract']\n",
    "        ))\n",
    "    all_wiki_abstracts = wiki_abstract_rdd.toDF(['title', 'abstract'])\n",
    "    valid_abstracts = all_wiki_abstracts.dropna()\n",
    "    return valid_abstracts\n",
    "\n",
    "def parse_dbpedia_abstract_file(spark, path):\n",
    "    title_pattern = r\"^<http:\\/\\/dbpedia\\.org\\/resource\\/([^\\>]*)> <\"\n",
    "    abstract_pattern = re.compile(r'\"([^\"]*)\"')\n",
    "    sc = spark.sparkContext\n",
    "    rdd = sc.textFile(path)\n",
    "    rdd = rdd.map(\n",
    "        lambda loop: (\n",
    "            title.group(1).replace('_', ' ')\n",
    "            if (title := re.search(title_pattern, loop)) is not None else None,\n",
    "            abstract.group(1)\n",
    "            if (abstract := re.search(abstract_pattern, loop)) is not None else None\n",
    "        ))\n",
    "    df = rdd.toDF(['title', 'abstract'])\n",
    "    df = df.dropna()\n",
    "    return df\n",
    "\n",
    "def get_xml_filenames(file_dir):\n",
    "    os.chdir(file_dir)\n",
    "    all_files = glob.glob(f\"*.xml*\")\n",
    "    xml_files = []\n",
    "    for file_name in all_files:\n",
    "        if re.match(r\"(.*)(?=(\\.bz2))\", file_name): continue\n",
    "        else: xml_files.append(file_name)\n",
    "    return xml_files"
   ],
   "metadata": {
    "collapsed": false,
    "pycharm": {
     "name": "#%%\n"
    }
   }
  },
  {
   "cell_type": "markdown",
   "source": [
    "### PARSE ABSTRACTS AND WRITE TO CSV\n",
    "\n",
    "### Define input-output paths"
   ],
   "metadata": {
    "collapsed": false
   }
  },
  {
   "cell_type": "code",
   "execution_count": 3,
   "outputs": [
    {
     "name": "stdout",
     "output_type": "stream",
     "text": [
      "['enwiki-20211101-pages-articles1.xml-p1p41242', 'enwiki-20211101-pages-articles10.xml-p4045403p5399366', 'enwiki-20211101-pages-articles2.xml-p41243p151573', 'enwiki-20211101-pages-articles3.xml-p151574p311329', 'enwiki-20211101-pages-articles4.xml-p311330p558391', 'enwiki-20211101-pages-articles6.xml-p958046p1483661', 'enwiki-20211101-pages-articles7.xml-p1483662p2134111', 'enwiki-20211101-pages-articles8.xml-p2134112p2936260', 'enwiki-20211101-pages-articles9.xml-p2936261p4045402']\n"
     ]
    }
   ],
   "source": [
    "default_dir = \"d:\\Study\\STU FIIT\\ZS 21-22\\Information Retrival\\wikidata\"\n",
    "\n",
    "#input paths\n",
    "input_abstracts_data_dir = default_dir + \"\\wiki_articles\"\n",
    "input_default_abstracts_file = default_dir + \"\\enwiki-latest-abstract.xml\"\n",
    "input_dbpedia_abstracts_file = default_dir + \"\\long-abstracts_lang=en.ttl\"\n",
    "\n",
    "#output paths\n",
    "parsed_abstracts_dir = default_dir + \"\\parsed_wiki_abstracts\"\n",
    "wikipedia_default_abstracts_dir = default_dir + \"\\default_wiki_abstracts\"\n",
    "dbpedia_abstracts_dir = default_dir + \"\\dbpedia_long_abstracts\"\n",
    "\n",
    "\n",
    "parsed_abstracts_dir_v2 = default_dir + \"\\parsed_wiki_abstracts_v2\"\n",
    "\n",
    "# get all xml files from directory\n",
    "xml_files = get_xml_filenames(input_abstracts_data_dir)\n",
    "print(xml_files)"
   ],
   "metadata": {
    "collapsed": false,
    "pycharm": {
     "name": "#%%\n"
    }
   }
  },
  {
   "cell_type": "markdown",
   "source": [
    "## PARSE ABSTRACTS from articles"
   ],
   "metadata": {
    "collapsed": false
   }
  },
  {
   "cell_type": "markdown",
   "source": [
    "### Parse Single dump"
   ],
   "metadata": {
    "collapsed": false,
    "pycharm": {
     "name": "#%% md\n"
    }
   }
  },
  {
   "cell_type": "code",
   "execution_count": 27,
   "outputs": [
    {
     "name": "stdout",
     "output_type": "stream",
     "text": [
      "parisng time: 2.1592888832092285\n",
      "root\n",
      " |-- title: string (nullable = true)\n",
      " |-- abstract: string (nullable = true)\n",
      "\n",
      "documentd:\\Study\\STU FIIT\\ZS 21-22\\Information Retrival\\wikidata\\wiki_articles/enwiki-20211101-pages-articles10.xml-p4045403p5399366 elapsed: 93.13075613975525\n"
     ]
    }
   ],
   "source": [
    "absolute_path = input_abstracts_data_dir + '/' + xml_files[1]\n",
    "if os.path.exists(absolute_path):\n",
    "        start_time_single = time.time()\n",
    "        parsed_wikipedia_abstracts_1 = parse_wiki_articles_file(spark, path=absolute_path)\n",
    "        # res = parsed_wikipedia_abstracts_0.union(parsed_wikipedia_abstracts_1)\n",
    "        print(f\"parisng time: {time.time() - start_time_single}\")\n",
    "        parsed_wikipedia_abstracts_1.printSchema()\n",
    "        try:\n",
    "            parsed_wikipedia_abstracts_1.write.csv(path=PARSED_ABSTRACTS_PATH,sep='\\t',mode='overwrite')\n",
    "        except:\n",
    "            print(f'document {absolute_path} - Error, cannot write this file to csv')\n",
    "        else:\n",
    "            print(f\"document{absolute_path} elapsed: {time.time() - start_time_single}\")"
   ],
   "metadata": {
    "collapsed": false,
    "pycharm": {
     "name": "#%%\n"
    }
   }
  },
  {
   "cell_type": "markdown",
   "source": [
    "### Multiple articles dump"
   ],
   "metadata": {
    "collapsed": false,
    "pycharm": {
     "name": "#%% md\n"
    }
   }
  },
  {
   "cell_type": "code",
   "execution_count": null,
   "outputs": [],
   "source": [
    "start_time = time.time()\n",
    "for idx, file in enumerate(xml_files):\n",
    "    absolute_path = input_abstracts_data_dir + \"/\" + file\n",
    "    mode = 'overwrite' if idx == 0 else 'append'\n",
    "    if os.path.exists(absolute_path):\n",
    "        start_time_single = time.time()\n",
    "        parsed_wikipedia_abstracts = parse_wiki_articles_file(spark, path=absolute_path)\n",
    "        print(f\"parisng time: {time.time() - start_time_single}\")\n",
    "        try:\n",
    "            parsed_wikipedia_abstracts.write.csv(path=parsed_abstracts_dir,sep='\\t',mode=mode)\n",
    "        except:\n",
    "            print(f'document {file} - Error, cannot write this file to csv')\n",
    "        else:\n",
    "            print(f\"document {file} elapsed: {time.time() - start_time_single}\")\n",
    "\n",
    "print(f\"elapsed: {time.time() - start_time}\")\n"
   ],
   "metadata": {
    "collapsed": false,
    "pycharm": {
     "name": "#%%\n"
    }
   }
  },
  {
   "cell_type": "code",
   "execution_count": 26,
   "outputs": [
    {
     "name": "stdout",
     "output_type": "stream",
     "text": [
      "parisng time: 1.886566400527954\n"
     ]
    }
   ],
   "source": [
    "absolute_path = input_abstracts_data_dir + '/' + xml_files[1]\n",
    "start_time_single = time.time()\n",
    "erroring_parsed_wikipedia_abstracts = parse_wiki_articles_file(spark, path=absolute_path)\n",
    "print(f\"parisng time: {time.time() - start_time_single}\")\n"
   ],
   "metadata": {
    "collapsed": false,
    "pycharm": {
     "name": "#%%\n"
    }
   }
  },
  {
   "cell_type": "markdown",
   "source": [
    "#### Parse default abstracts from wikipedia-abstracts-latest"
   ],
   "metadata": {
    "collapsed": false
   }
  },
  {
   "cell_type": "code",
   "execution_count": 8,
   "outputs": [
    {
     "name": "stdout",
     "output_type": "stream",
     "text": [
      "elapsed: 2.5000174045562744\n",
      "writing to csv elapsed: 622.2322602272034\n",
      "+--------------------+--------------------+\n",
      "|               title|            abstract|\n",
      "+--------------------+--------------------+\n",
      "|           Anarchism|Anarchism is a po...|\n",
      "|              Autism|| duration     =L...|\n",
      "|              Albedo|Albedo (; ) is th...|\n",
      "|                   A|           A-sharp}}|\n",
      "|             Alabama|(We dare defend o...|\n",
      "|            Achilles|In Greek mytholog...|\n",
      "|     Abraham Lincoln|| alt            ...|\n",
      "|           Aristotle|                  }}|\n",
      "|An American in Paris|An American in Pa...|\n",
      "|Academy Award for...|The Academy Award...|\n",
      "|      Academy Awards|             Oscar}}|\n",
      "|             Actrius|  | starring       =|\n",
      "|     Animalia (book)|Animalia is an il...|\n",
      "|International Ato...|International Ato...|\n",
      "|            Altruism|Altruism is the p...|\n",
      "|            Ayn Rand|| birth_place = S...|\n",
      "|        Alain Connes|| birth_place = D...|\n",
      "|          Allan Dwan|| birth_place  = ...|\n",
      "|             Algeria|| common_name = A...|\n",
      "|List of Atlas Shr...|This is a list of...|\n",
      "+--------------------+--------------------+\n",
      "only showing top 20 rows\n",
      "\n"
     ]
    }
   ],
   "source": [
    "if os.path.exists(input_default_abstracts_file):\n",
    "    start_time = time.time()\n",
    "    wiki_abstracts = parse_wiki_abstracts_file(spark, path=input_default_abstracts_file)\n",
    "    print(f\"elapsed: {time.time() - start_time}\")\n",
    "    wiki_abstracts.coalesce(1).write.csv(path=wikipedia_default_abstracts_dir, sep='\\t', header=False, mode='overwrite')\n",
    "    print(f\"writing to csv elapsed: {time.time() - start_time}\")\n",
    "    wiki_abstracts.show(20)"
   ],
   "metadata": {
    "collapsed": false,
    "pycharm": {
     "name": "#%%\n"
    }
   }
  },
  {
   "cell_type": "markdown",
   "source": [
    "#### Parse dbpedia abstracts from long_abstracts dbpedia"
   ],
   "metadata": {
    "collapsed": false
   }
  },
  {
   "cell_type": "code",
   "execution_count": 11,
   "metadata": {
    "pycharm": {
     "name": "#%%\n"
    }
   },
   "outputs": [
    {
     "name": "stdout",
     "output_type": "stream",
     "text": [
      "elapsed: 2.267723798751831\n",
      "writing to csv elapsed: 196.98528575897217\n",
      "+--------------------+--------------------+\n",
      "|               title|            abstract|\n",
      "+--------------------+--------------------+\n",
      "|     Animalia (book)|Animalia is an il...|\n",
      "|Agricultural science|Agricultural scie...|\n",
      "|              Albedo|Albedo () (Latin:...|\n",
      "|        Alain Connes|Alain Connes (Fre...|\n",
      "|International Ato...|International Ato...|\n",
      "|                   A|A or a is the fir...|\n",
      "|An American in Paris|An American in Pa...|\n",
      "|List of Atlas Shr...|This is a list of...|\n",
      "|          Allan Dwan|Allan Dwan (born ...|\n",
      "|          Astronomer|An astronomer is ...|\n",
      "|            Achilles|In Greek mytholog...|\n",
      "|           Anarchism|Anarchism is a po...|\n",
      "|        Anthropology|Anthropology is t...|\n",
      "|              Autism|Autism is a devel...|\n",
      "|      Academy Awards|The Academy Award...|\n",
      "|             Actrius|Actresses (Catala...|\n",
      "|        Answer (law)|In law, an Answer...|\n",
      "|Academy Award for...|The Academy Award...|\n",
      "|Appellate procedu...|United States app...|\n",
      "|     Abraham Lincoln|Abraham Lincoln (...|\n",
      "+--------------------+--------------------+\n",
      "only showing top 20 rows\n",
      "\n"
     ]
    }
   ],
   "source": [
    "if os.path.exists(input_dbpedia_abstracts_file):\n",
    "    start_time = time.time()\n",
    "    dbpedia_abstracts = parse_dbpedia_abstract_file(spark, path=input_dbpedia_abstracts_file)\n",
    "    print(f\"elapsed: {time.time() - start_time}\")\n",
    "    # dbpedia_abstracts = dbpedia_abstracts_rdd.toDF(['title', 'abstract'])\n",
    "    dbpedia_abstracts.coalesce(1).write.csv(path=dbpedia_abstracts_dir, sep='\\t', header=False, mode='overwrite')\n",
    "    print(f\"writing to csv elapsed: {time.time() - start_time}\")\n",
    "    dbpedia_abstracts.show(20)"
   ]
  },
  {
   "cell_type": "code",
   "execution_count": 16,
   "metadata": {
    "pycharm": {
     "name": "#%%\n"
    }
   },
   "outputs": [
    {
     "name": "stdout",
     "output_type": "stream",
     "text": [
      "count parsed wiki abstracts: 10523\n",
      "count dbpedia 5732950\n",
      "count wiki abstracts 6386761\n"
     ]
    }
   ],
   "source": [
    "# print(f\"count parsed wiki abstracts: {parsed_wikipedia_abstracts.count()}\")\n",
    "print(f\"count dbpedia {dbpedia_abstracts.count()}\")\n",
    "print(f\"count wiki abstracts {wiki_abstracts.count()}\")\n",
    "\n"
   ]
  },
  {
   "cell_type": "code",
   "execution_count": 43,
   "outputs": [],
   "source": [],
   "metadata": {
    "collapsed": false,
    "pycharm": {
     "name": "#%%\n"
    }
   }
  }
 ],
 "metadata": {
  "kernelspec": {
   "display_name": "Python 3 (ipykernel)",
   "language": "python",
   "name": "python3"
  },
  "language_info": {
   "codemirror_mode": {
    "name": "ipython",
    "version": 3
   },
   "file_extension": ".py",
   "mimetype": "text/x-python",
   "name": "python",
   "nbconvert_exporter": "python",
   "pygments_lexer": "ipython3",
   "version": "3.9.7"
  }
 },
 "nbformat": 4,
 "nbformat_minor": 1
}